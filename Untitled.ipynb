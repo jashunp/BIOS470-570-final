{
 "cells": [
  {
   "cell_type": "markdown",
   "id": "a31394a5-db1b-4749-aad8-81704ea8ac6e",
   "metadata": {},
   "source": [
    "### Introduction"
   ]
  },
  {
   "cell_type": "markdown",
   "id": "63e20417-ed15-44fd-b99f-88d23545d3e0",
   "metadata": {},
   "source": [
    "##### What is the current state of the field that the paper addresses and what is the problem that the paper aims to solve? What data was collected to do this and what are the main claims of the paper?"
   ]
  },
  {
   "cell_type": "markdown",
   "id": "9e411d24-f28f-43ca-9935-c041a9070d02",
   "metadata": {},
   "source": [
    "### $$\\text{High-resolution analysis of gene activity during the Xenopus mid-blastula transition}$$"
   ]
  },
  {
   "cell_type": "markdown",
   "id": "c8b7ba25-0826-4837-a7cf-f1b0e832f713",
   "metadata": {},
   "source": [
    "#### This paper's main focus is on gene activity during a developmental phase of the model organism $\\textit{Xenopus}$. Specifically, the paper examines the mid-blastula transition, during which zygotic transcription vastly increases and cell growth slows. How exactly this occurs is not fully characterized, and in an effort to elucidate this process, the authors use expression profiling on a dataset of Xenopus gene read counts (GEO: GSE56242). Expression profiles are calculated from these counts, and the authors claim that analysis of these profiles identifies three distinct waves of activity in addition to a set of maternal mRNA marked for degradation which is crucial to the initiation of the mid-blastula transition. In addition, polyA+ transcripts are also counted, and are used to validate adenylation and deadenylation of key transcripts. Overall, the authors have brought a greater understanding of gene regulation during this developmental phase. "
   ]
  },
  {
   "cell_type": "markdown",
   "id": "089b6ef4-7006-443f-b38f-396739ed9ddb",
   "metadata": {},
   "source": [
    "#### Specifically, the claims of the author that I will be evaluating are as follows:\n",
    "#### (1) Reproducibility of the authors' gene expression profiles\n",
    "#### (2) There is a wave of polyadenylation in maternal mRNA\n",
    "#### (3) Verifying that genes which have been previously characterized as deadenylated are in fact being deadenylated \n",
    "#### (4) reproducing their gene ontology analysis on deadenylated maternal transcripts and adenylated maternal transcripts and compare to zygotic transcripts \n",
    "#### (5) gene ontology of the three waves of zygotic transcription in order to characterize what is occurring in each of these stages and see if it matches the authors claims."
   ]
  },
  {
   "cell_type": "markdown",
   "id": "d306b9ad-3c8b-4293-8513-e6bf58b8d0c1",
   "metadata": {},
   "source": [
    "#### Claims 1 and 5 can be evaluated using just the gene expression data. Claim 1 will be straight forward, just performing the same normalizations they outline, but claim 5 will require performing the same analysis they did to identify their three waves, and then performing gene ontology to compare. Similarly, claims 2, 3, 4 will be slightly more involved, and will require data on both the gene expression and polyA+ counts. Claim 2 can be checked by identifying the first wave (also identified in the process of evaluating claim 5, so we can avoid repetition) and then checking polyA+ data for transcripts that are upregulated during this wave. Claim 3 will be very similar, but we will be checking the identified genes' polyA+ data after the wave, expecting to see a decrease. Claim 4 will then be evaluated by evaluated by performing gene ontology on wave 1 transcripts, but filtering will need to occur first to identify those transcripts which are adenylated and those which are not."
   ]
  },
  {
   "cell_type": "code",
   "execution_count": null,
   "id": "95196450-4861-45b0-9c6d-78185ddafc06",
   "metadata": {},
   "outputs": [],
   "source": []
  }
 ],
 "metadata": {
  "kernelspec": {
   "display_name": "Python 3 (ipykernel)",
   "language": "python",
   "name": "python3"
  },
  "language_info": {
   "codemirror_mode": {
    "name": "ipython",
    "version": 3
   },
   "file_extension": ".py",
   "mimetype": "text/x-python",
   "name": "python",
   "nbconvert_exporter": "python",
   "pygments_lexer": "ipython3",
   "version": "3.9.13"
  }
 },
 "nbformat": 4,
 "nbformat_minor": 5
}
